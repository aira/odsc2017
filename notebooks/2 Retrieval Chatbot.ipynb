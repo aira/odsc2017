{
 "cells": [
  {
   "cell_type": "code",
   "execution_count": 1,
   "metadata": {},
   "outputs": [
    {
     "name": "stdout",
     "output_type": "stream",
     "text": [
      "(18920, 11)\n"
     ]
    },
    {
     "data": {
      "text/html": [
       "<div>\n",
       "<style>\n",
       "    .dataframe thead tr:only-child th {\n",
       "        text-align: right;\n",
       "    }\n",
       "\n",
       "    .dataframe thead th {\n",
       "        text-align: left;\n",
       "    }\n",
       "\n",
       "    .dataframe tbody tr th {\n",
       "        vertical-align: top;\n",
       "    }\n",
       "</style>\n",
       "<table border=\"1\" class=\"dataframe\">\n",
       "  <thead>\n",
       "    <tr style=\"text-align: right;\">\n",
       "      <th></th>\n",
       "      <th>Context</th>\n",
       "      <th>Ground Truth Utterance</th>\n",
       "      <th>Distractor_0</th>\n",
       "      <th>Distractor_1</th>\n",
       "      <th>Distractor_2</th>\n",
       "      <th>Distractor_3</th>\n",
       "      <th>Distractor_4</th>\n",
       "      <th>Distractor_5</th>\n",
       "      <th>Distractor_6</th>\n",
       "      <th>Distractor_7</th>\n",
       "      <th>Distractor_8</th>\n",
       "    </tr>\n",
       "  </thead>\n",
       "  <tbody>\n",
       "    <tr>\n",
       "      <th>0</th>\n",
       "      <td>anyone knows why my stock oneiric exports env ...</td>\n",
       "      <td>nice thanks! __eou__</td>\n",
       "      <td>wrong channel for it, but check efnet.org, uno...</td>\n",
       "      <td>every time the kernel changes, you will lose v...</td>\n",
       "      <td>ok __eou__</td>\n",
       "      <td>!nomodeset &gt; acer __eou__ I'm assuming it is a...</td>\n",
       "      <td>http://www.ubuntu.com/project/about-ubuntu/der...</td>\n",
       "      <td>thx __eou__ unfortunately the program isn't in...</td>\n",
       "      <td>how can I check? By doing a recovery for testi...</td>\n",
       "      <td>my humble apologies __eou__</td>\n",
       "      <td>#ubuntu-offtopic __eou__</td>\n",
       "    </tr>\n",
       "    <tr>\n",
       "      <th>1</th>\n",
       "      <td>i set up my hd such that i have to type a pass...</td>\n",
       "      <td>so you dont know, ok, anyone else? __eou__ you...</td>\n",
       "      <td>nmap is nice, but it wasn't what I was looking...</td>\n",
       "      <td>ok __eou__</td>\n",
       "      <td>cdrom worked fine on windows. __eou__ i dont ...</td>\n",
       "      <td>ah yes, i have read return as rerun __eou__</td>\n",
       "      <td>hm? __eou__</td>\n",
       "      <td>not the case, LTS is every other .04 release. ...</td>\n",
       "      <td>Pretty much __eou__</td>\n",
       "      <td>I used the one I downloaded from AMD __eou__</td>\n",
       "      <td>ffmpeg is part of the package , quixotedon , a...</td>\n",
       "    </tr>\n",
       "    <tr>\n",
       "      <th>2</th>\n",
       "      <td>im trying to use ubuntu on my macbook pro reti...</td>\n",
       "      <td>just wondering how it runs __eou__</td>\n",
       "      <td>yes, that's what I did, exported it to a \"id_d...</td>\n",
       "      <td>nothing - i am talking about the question of m...</td>\n",
       "      <td>that should fix the fonts being too large __eou__</td>\n",
       "      <td>okay, so hcitool echos back hci0 &lt;mac address ...</td>\n",
       "      <td>I get to the menu with options such as 'try ub...</td>\n",
       "      <td>why do u need analyzer __eou__ it is a toy __e...</td>\n",
       "      <td>Cntrl-C may stop the command but it doesn't fi...</td>\n",
       "      <td>if you're only going to run Ubuntu, just get a...</td>\n",
       "      <td>the ones which are not picked up at the moment...</td>\n",
       "    </tr>\n",
       "    <tr>\n",
       "      <th>3</th>\n",
       "      <td>no suggestions? __eou__ links? __eou__ how can...</td>\n",
       "      <td>you cant load anything via usb or cd when luks...</td>\n",
       "      <td>-p  sorry... __eou__  nmap -p22 __eou__ It d...</td>\n",
       "      <td>i guess so i can't even launch it. __eou__</td>\n",
       "      <td>noted __eou__</td>\n",
       "      <td>rxvt-unicode is one __eou__</td>\n",
       "      <td>I tarred all of ~ __eou__</td>\n",
       "      <td>I tarred all of ~ __eou__</td>\n",
       "      <td>I don't really know if I can help, but I was c...</td>\n",
       "      <td>that works just fine, thanks! __eou__</td>\n",
       "      <td>thank you __eou__</td>\n",
       "    </tr>\n",
       "    <tr>\n",
       "      <th>4</th>\n",
       "      <td>I just added a second usb printer but not sure...</td>\n",
       "      <td>i was setting it up under the printer configur...</td>\n",
       "      <td>i'd say the most commonly venue would be via L...</td>\n",
       "      <td>the old hardy man page, http://manpages.ubuntu...</td>\n",
       "      <td>i'll give a try __eou__</td>\n",
       "      <td>by the way, the url you posted for davfs is fr...</td>\n",
       "      <td>http://ubuntuforums.org/showthread.php?t=15498...</td>\n",
       "      <td>So I load up putty gui, then what do I do? __e...</td>\n",
       "      <td>you should read error messages, it says 'are ...</td>\n",
       "      <td>waiting the college semester to close just to ...</td>\n",
       "      <td>I was calling myself a jerk. All I know is tha...</td>\n",
       "    </tr>\n",
       "  </tbody>\n",
       "</table>\n",
       "</div>"
      ],
      "text/plain": [
       "                                             Context  \\\n",
       "0  anyone knows why my stock oneiric exports env ...   \n",
       "1  i set up my hd such that i have to type a pass...   \n",
       "2  im trying to use ubuntu on my macbook pro reti...   \n",
       "3  no suggestions? __eou__ links? __eou__ how can...   \n",
       "4  I just added a second usb printer but not sure...   \n",
       "\n",
       "                              Ground Truth Utterance  \\\n",
       "0                               nice thanks! __eou__   \n",
       "1  so you dont know, ok, anyone else? __eou__ you...   \n",
       "2                 just wondering how it runs __eou__   \n",
       "3  you cant load anything via usb or cd when luks...   \n",
       "4  i was setting it up under the printer configur...   \n",
       "\n",
       "                                        Distractor_0  \\\n",
       "0  wrong channel for it, but check efnet.org, uno...   \n",
       "1  nmap is nice, but it wasn't what I was looking...   \n",
       "2  yes, that's what I did, exported it to a \"id_d...   \n",
       "3    -p  sorry... __eou__  nmap -p22 __eou__ It d...   \n",
       "4  i'd say the most commonly venue would be via L...   \n",
       "\n",
       "                                        Distractor_1  \\\n",
       "0  every time the kernel changes, you will lose v...   \n",
       "1                                         ok __eou__   \n",
       "2  nothing - i am talking about the question of m...   \n",
       "3         i guess so i can't even launch it. __eou__   \n",
       "4  the old hardy man page, http://manpages.ubuntu...   \n",
       "\n",
       "                                        Distractor_2  \\\n",
       "0                                         ok __eou__   \n",
       "1   cdrom worked fine on windows. __eou__ i dont ...   \n",
       "2  that should fix the fonts being too large __eou__   \n",
       "3                                      noted __eou__   \n",
       "4                            i'll give a try __eou__   \n",
       "\n",
       "                                        Distractor_3  \\\n",
       "0  !nomodeset > acer __eou__ I'm assuming it is a...   \n",
       "1        ah yes, i have read return as rerun __eou__   \n",
       "2  okay, so hcitool echos back hci0 <mac address ...   \n",
       "3                        rxvt-unicode is one __eou__   \n",
       "4  by the way, the url you posted for davfs is fr...   \n",
       "\n",
       "                                        Distractor_4  \\\n",
       "0  http://www.ubuntu.com/project/about-ubuntu/der...   \n",
       "1                                        hm? __eou__   \n",
       "2  I get to the menu with options such as 'try ub...   \n",
       "3                          I tarred all of ~ __eou__   \n",
       "4  http://ubuntuforums.org/showthread.php?t=15498...   \n",
       "\n",
       "                                        Distractor_5  \\\n",
       "0  thx __eou__ unfortunately the program isn't in...   \n",
       "1  not the case, LTS is every other .04 release. ...   \n",
       "2  why do u need analyzer __eou__ it is a toy __e...   \n",
       "3                          I tarred all of ~ __eou__   \n",
       "4  So I load up putty gui, then what do I do? __e...   \n",
       "\n",
       "                                        Distractor_6  \\\n",
       "0  how can I check? By doing a recovery for testi...   \n",
       "1                                Pretty much __eou__   \n",
       "2  Cntrl-C may stop the command but it doesn't fi...   \n",
       "3  I don't really know if I can help, but I was c...   \n",
       "4   you should read error messages, it says 'are ...   \n",
       "\n",
       "                                        Distractor_7  \\\n",
       "0                        my humble apologies __eou__   \n",
       "1       I used the one I downloaded from AMD __eou__   \n",
       "2  if you're only going to run Ubuntu, just get a...   \n",
       "3              that works just fine, thanks! __eou__   \n",
       "4  waiting the college semester to close just to ...   \n",
       "\n",
       "                                        Distractor_8  \n",
       "0                           #ubuntu-offtopic __eou__  \n",
       "1  ffmpeg is part of the package , quixotedon , a...  \n",
       "2  the ones which are not picked up at the moment...  \n",
       "3                                  thank you __eou__  \n",
       "4  I was calling myself a jerk. All I know is tha...  "
      ]
     },
     "execution_count": 1,
     "metadata": {},
     "output_type": "execute_result"
    }
   ],
   "source": [
    "import pandas as pd\n",
    "from nlpia.data.loaders import read_csv\n",
    "\n",
    "df = read_csv('../shared-resources/chatbot/testset.csv')\n",
    "print(df.shape)\n",
    "df.head()\n"
   ]
  },
  {
   "cell_type": "code",
   "execution_count": 2,
   "metadata": {},
   "outputs": [
    {
     "data": {
      "text/plain": [
       "TfidfVectorizer(analyzer='word', binary=False, decode_error='strict',\n",
       "        dtype=<class 'numpy.int64'>, encoding='utf-8', input='content',\n",
       "        lowercase=True, max_df=1.0, max_features=None, min_df=1,\n",
       "        ngram_range=(1, 1), norm='l2', preprocessor=None, smooth_idf=True,\n",
       "        stop_words=None, strip_accents=None, sublinear_tf=False,\n",
       "        token_pattern='(?u)\\\\b\\\\w\\\\w+\\\\b', tokenizer=None, use_idf=True,\n",
       "        vocabulary=None)"
      ]
     },
     "execution_count": 2,
     "metadata": {},
     "output_type": "execute_result"
    }
   ],
   "source": [
    "from sklearn.feature_extraction.text import TfidfVectorizer\n",
    "\n",
    "tfidf = TfidfVectorizer()\n",
    "tfidf"
   ]
  },
  {
   "cell_type": "code",
   "execution_count": 3,
   "metadata": {},
   "outputs": [
    {
     "data": {
      "text/plain": [
       "<2x4 sparse matrix of type '<class 'numpy.float64'>'\n",
       "\twith 4 stored elements in Compressed Sparse Row format>"
      ]
     },
     "execution_count": 3,
     "metadata": {},
     "output_type": "execute_result"
    }
   ],
   "source": [
    "vectors = tfidf.fit_transform(['hello world', 'another time'])\n",
    "vectors"
   ]
  },
  {
   "cell_type": "code",
   "execution_count": 4,
   "metadata": {},
   "outputs": [
    {
     "data": {
      "text/plain": [
       "matrix([[ 0.        ,  0.70710678,  0.        ,  0.70710678],\n",
       "        [ 0.70710678,  0.        ,  0.70710678,  0.        ]])"
      ]
     },
     "execution_count": 4,
     "metadata": {},
     "output_type": "execute_result"
    }
   ],
   "source": [
    "vectors = vectors.todense()\n",
    "vectors"
   ]
  },
  {
   "cell_type": "code",
   "execution_count": 5,
   "metadata": {},
   "outputs": [
    {
     "data": {
      "text/plain": [
       "{'another': 0, 'hello': 1, 'time': 2, 'world': 3}"
      ]
     },
     "execution_count": 5,
     "metadata": {},
     "output_type": "execute_result"
    }
   ],
   "source": [
    "tfidf.vocabulary_"
   ]
  },
  {
   "cell_type": "code",
   "execution_count": 6,
   "metadata": {},
   "outputs": [
    {
     "data": {
      "text/plain": [
       "TfidfVectorizer(analyzer='word', binary=False, decode_error='strict',\n",
       "        dtype=<class 'numpy.int64'>, encoding='utf-8', input='content',\n",
       "        lowercase=True, max_df=0.3, max_features=100000, min_df=8,\n",
       "        ngram_range=(1, 1), norm='l2', preprocessor=None, smooth_idf=True,\n",
       "        stop_words=None, strip_accents=None, sublinear_tf=False,\n",
       "        token_pattern='(?u)\\\\b\\\\w\\\\w+\\\\b', tokenizer=None, use_idf=True,\n",
       "        vocabulary=None)"
      ]
     },
     "execution_count": 6,
     "metadata": {},
     "output_type": "execute_result"
    }
   ],
   "source": [
    "tfidf = TfidfVectorizer(min_df=8, max_df=.3, max_features=100000)\n",
    "tfidf"
   ]
  },
  {
   "cell_type": "code",
   "execution_count": 7,
   "metadata": {},
   "outputs": [
    {
     "data": {
      "text/plain": [
       "TfidfVectorizer(analyzer='word', binary=False, decode_error='strict',\n",
       "        dtype=<class 'numpy.int64'>, encoding='utf-8', input='content',\n",
       "        lowercase=True, max_df=0.3, max_features=100000, min_df=8,\n",
       "        ngram_range=(1, 1), norm='l2', preprocessor=None, smooth_idf=True,\n",
       "        stop_words=None, strip_accents=None, sublinear_tf=False,\n",
       "        token_pattern='(?u)\\\\b\\\\w\\\\w+\\\\b', tokenizer=None, use_idf=True,\n",
       "        vocabulary=None)"
      ]
     },
     "execution_count": 7,
     "metadata": {},
     "output_type": "execute_result"
    }
   ],
   "source": [
    "tfidf.fit(pd.concat([df[df.columns[i]] for i in range(11)]))"
   ]
  },
  {
   "cell_type": "code",
   "execution_count": 8,
   "metadata": {},
   "outputs": [
    {
     "name": "stdout",
     "output_type": "stream",
     "text": [
      "['anyone', 'knows', 'why', 'my', 'stock', 'oneiric', 'exports', 'env', 'var', 'username']\n",
      "12358\n"
     ]
    }
   ],
   "source": [
    "print(list(tfidf.vocabulary_)[:10])\n",
    "print(len(tfidf.vocabulary_))"
   ]
  },
  {
   "cell_type": "code",
   "execution_count": 9,
   "metadata": {},
   "outputs": [],
   "source": [
    "X = tfidf.transform(df.Context)\n",
    "X = X.todense()"
   ]
  },
  {
   "cell_type": "code",
   "execution_count": 10,
   "metadata": {},
   "outputs": [],
   "source": [
    "y = tfidf.transform(df['Ground Truth Utterance']).todense()"
   ]
  },
  {
   "cell_type": "code",
   "execution_count": 11,
   "metadata": {},
   "outputs": [],
   "source": [
    "from sklearn.metrics.pairwise import cosine_distances"
   ]
  },
  {
   "cell_type": "code",
   "execution_count": 12,
   "metadata": {},
   "outputs": [],
   "source": [
    "def get_statement(s='Hi'):\n",
    "    q = tfidf.transform([s]).todense()[0]\n",
    "    similarity = 0\n",
    "    best_i = 0\n",
    "    for i, v in enumerate(X):\n",
    "        # print(i, q, v)\n",
    "        sim = 2 - cosine_distances(q, v)\n",
    "        if sim > similarity:\n",
    "            similarity = sim\n",
    "            best_i = i\n",
    "    return df.Context.iloc[best_i], best_i"
   ]
  },
  {
   "cell_type": "code",
   "execution_count": 13,
   "metadata": {},
   "outputs": [
    {
     "data": {
      "text/plain": [
       "('hello __eou__ __eot__ hello, can i help you? __eou__ __eot__ ', 1022)"
      ]
     },
     "execution_count": 13,
     "metadata": {},
     "output_type": "execute_result"
    }
   ],
   "source": [
    "get_statement('Hello Ubuntu')"
   ]
  },
  {
   "cell_type": "code",
   "execution_count": 15,
   "metadata": {},
   "outputs": [
    {
     "data": {
      "text/plain": [
       "'exactly my idea! __eou__'"
      ]
     },
     "execution_count": 15,
     "metadata": {},
     "output_type": "execute_result"
    }
   ],
   "source": [
    "df['Ground Truth Utterance'].iloc[get_statement(\"Ubuntu doesn't work on my Macbook Pro!\")[1]]"
   ]
  },
  {
   "cell_type": "code",
   "execution_count": 16,
   "metadata": {},
   "outputs": [],
   "source": [
    "def get_reply(s='Hi'):\n",
    "    return df['Ground Truth Utterance'].iloc[get_statement(s)[1]]\n",
    "    "
   ]
  },
  {
   "cell_type": "code",
   "execution_count": 17,
   "metadata": {},
   "outputs": [
    {
     "data": {
      "text/plain": [
       "'nice thanks! __eou__'"
      ]
     },
     "execution_count": 17,
     "metadata": {},
     "output_type": "execute_result"
    }
   ],
   "source": [
    "get_reply('anyone knows why my stock oneiric exports env')"
   ]
  },
  {
   "cell_type": "code",
   "execution_count": 18,
   "metadata": {},
   "outputs": [
    {
     "data": {
      "text/plain": [
       "'so you dont know, ok, anyone else? __eou__ you are like, yah my mouse doesnt work, reinstall your os lolol what a joke __eou__'"
      ]
     },
     "execution_count": 18,
     "metadata": {},
     "output_type": "execute_result"
    }
   ],
   "source": [
    "get_reply('i set up my hd such that i have to type a pass')"
   ]
  },
  {
   "cell_type": "code",
   "execution_count": 19,
   "metadata": {},
   "outputs": [],
   "source": [
    "from sklearn.decomposition import PCA\n",
    "pca = PCA(n_components=200)\n",
    "pca = pca.fit(tfidf.transform(df.Context).todense())\n",
    "X_100d = pca.transform(X)\n",
    "y_100d = pca.transform(y)"
   ]
  },
  {
   "cell_type": "code",
   "execution_count": 21,
   "metadata": {},
   "outputs": [],
   "source": [
    "def get_statement_100d(s='Hi'):\n",
    "    q = pca.transform(tfidf.transform([s]).todense())[0]\n",
    "    similarity = 0\n",
    "    best_i = 0\n",
    "    for i, v in enumerate(X_100d):\n",
    "        # print(i, q.shape, v.shape)\n",
    "        sim = 2 - cosine_distances(pd.np.array([q]), pd.np.array([v]))\n",
    "        if sim > similarity:\n",
    "            similarity = sim\n",
    "            best_i = i\n",
    "    \n",
    "    return df.Context.iloc[best_i], best_i\n",
    "\n",
    "def get_reply_100d(s='Hi'):\n",
    "    return df['Ground Truth Utterance'].iloc[get_statement_100d(s)[1]]"
   ]
  },
  {
   "cell_type": "code",
   "execution_count": 24,
   "metadata": {},
   "outputs": [
    {
     "name": "stdout",
     "output_type": "stream",
     "text": [
      "anyone knows why my stock oneiric exports env var 'USERNAME'?  I mean what is that used for?  I know of $USER but not $USERNAME .  My precise install doesn't export USERNAME __eou__ __eot__ looks like it used to be exported by lightdm, but the line had the comment \"// FIXME: Is this required?\" so I guess it isn't surprising it is gone __eou__ __eot__ thanks!  How the heck did you figure that out? __eou__ __eot__ https://bugs.launchpad.net/lightdm/+bug/864109/comments/3 __eou__ __eot__ \n",
      "n\n",
      "ok, i just figured i'd ask here incase I was just retarded lol __eou__\n"
     ]
    }
   ],
   "source": [
    "print(get_statement_100d(df.Context[0])[0])\n",
    "print(get_reply_100d(df.Context[0])[0])\n",
    "print(get_reply_100d(\"I'm trying to use ubuntu on my macbook pro\"))"
   ]
  },
  {
   "cell_type": "code",
   "execution_count": 95,
   "metadata": {},
   "outputs": [
    {
     "data": {
      "text/plain": [
       "(\"I use cinnamon __eou__ But i don't know :P __eou__ __eot__ fair enough. I know Kazam has big issues in Gnome3 and cinnamon. __eou__ __eot__ \",\n",
       " 10644)"
      ]
     },
     "execution_count": 95,
     "metadata": {},
     "output_type": "execute_result"
    }
   ],
   "source": [
    "get_statement_100d(\"me just installed another serial port copier but don't know\")"
   ]
  },
  {
   "cell_type": "code",
   "execution_count": 96,
   "metadata": {},
   "outputs": [
    {
     "data": {
      "text/plain": [
       "('obi Its not working without USB stick. Without USB stick it asks to select a boot medium. With USB stick, it boots correctly. __eou__ obi Still the fdisk shows its not bootable. __eou__ __eot__ That display is irrelevant since 15 years :) __eou__ __eot__ ',\n",
       " 7989)"
      ]
     },
     "execution_count": 96,
     "metadata": {},
     "output_type": "execute_result"
    }
   ],
   "source": [
    "get_statement_100d(\"I just added a second usb printer but not sure\")"
   ]
  },
  {
   "cell_type": "code",
   "execution_count": 31,
   "metadata": {},
   "outputs": [
    {
     "name": "stdout",
     "output_type": "stream",
     "text": [
      "and it still doesn't work? __eou__\n"
     ]
    }
   ],
   "source": [
    "\n",
    "print(get_reply_100d(\"Did you like the movie Avatar?\"))\n"
   ]
  }
 ],
 "metadata": {
  "kernelspec": {
   "display_name": "Python 3",
   "language": "python",
   "name": "python3"
  },
  "language_info": {
   "codemirror_mode": {
    "name": "ipython",
    "version": 3
   },
   "file_extension": ".py",
   "mimetype": "text/x-python",
   "name": "python",
   "nbconvert_exporter": "python",
   "pygments_lexer": "ipython3",
   "version": "3.6.3"
  }
 },
 "nbformat": 4,
 "nbformat_minor": 2
}
