{
 "cells": [
  {
   "cell_type": "markdown",
   "metadata": {},
   "source": [
    "# Getting Prosocial\n",
    "\n"
   ]
  },
  {
   "cell_type": "code",
   "execution_count": 5,
   "metadata": {},
   "outputs": [
    {
     "data": {
      "text/html": [
       "<style>\n",
       "    .container {\n",
       "        width: 99%;\n",
       "    }   \n",
       "    div.cell{\n",
       "        width: 99%;\n",
       "        margin-left: 1%;\n",
       "        margin-right: auto;\n",
       "    }\n",
       "    div.cell.selected {\n",
       "        border-left-width: 1px;\n",
       "    }\n",
       "</style>\n"
      ],
      "text/plain": [
       "<IPython.core.display.HTML object>"
      ]
     },
     "metadata": {},
     "output_type": "display_data"
    },
    {
     "name": "stdout",
     "output_type": "stream",
     "text": [
      "Reading CSV with `read_csv(*('/home/hobs/src/nlpia/nlpia/data/mavis-batey-greetings.csv',), **{'low_memory': False})`...\n",
      "Reading CSV with `read_csv(*('/home/hobs/src/nlpia/nlpia/data/sms-spam.csv',), **{'low_memory': False})`...\n"
     ]
    }
   ],
   "source": []
  },
  {
   "cell_type": "code",
   "execution_count": 2,
   "metadata": {},
   "outputs": [
    {
     "name": "stdout",
     "output_type": "stream",
     "text": [
      "Cloning into 'openchat'...\n",
      "remote: Counting objects: 856, done.\u001b[K\n",
      "remote: Total 856 (delta 0), reused 0 (delta 0), pack-reused 856\u001b[K\n",
      "Receiving objects: 100% (856/856), 186.88 KiB | 460.00 KiB/s, done.\n",
      "Resolving deltas: 100% (516/516), done.\n",
      "Obtaining file:///home/hobs/src/prosocial-chatbot/notebooks/openchat\n",
      "    Complete output from command python setup.py egg_info:\n",
      "    \n",
      "    Installed /home/hobs/src/prosocial-chatbot/notebooks/openchat/.eggs/PyScaffold-2.5.8-py3.6.egg\n",
      "    [pbr] Generating ChangeLog\n",
      "    ERROR:root:Error parsing\n",
      "    Traceback (most recent call last):\n",
      "      File \"/home/hobs/src/prosocial-chatbot/notebooks/openchat/.eggs/PyScaffold-2.5.8-py3.6.egg/pyscaffold/contrib/pbr/pbr/core.py\", line 111, in pbr\n",
      "        attrs = util.cfg_to_args(path, dist.script_args)\n",
      "      File \"/home/hobs/src/prosocial-chatbot/notebooks/openchat/.eggs/PyScaffold-2.5.8-py3.6.egg/pyscaffold/contrib/pbr/pbr/util.py\", line 251, in cfg_to_args\n",
      "        kwargs = setup_cfg_to_setup_kwargs(config, script_args)\n",
      "      File \"/home/hobs/src/prosocial-chatbot/notebooks/openchat/.eggs/PyScaffold-2.5.8-py3.6.egg/pyscaffold/contrib/pbr/pbr/util.py\", line 313, in setup_cfg_to_setup_kwargs\n",
      "        description_file = open(filename)\n",
      "    FileNotFoundError: [Errno 2] No such file or directory: 'README.rst'\n",
      "    error in setup command: Error parsing /home/hobs/src/prosocial-chatbot/notebooks/openchat/setup.cfg: FileNotFoundError: [Errno 2] No such file or directory: 'README.rst'\n",
      "    \n",
      "    ----------------------------------------\n",
      "\u001b[31mCommand \"python setup.py egg_info\" failed with error code 1 in /home/hobs/src/prosocial-chatbot/notebooks/openchat/\u001b[0m\n"
     ]
    }
   ],
   "source": [
    "!git clone https://github.com/totalgood/openchat\n",
    "!pip install -e openchat"
   ]
  }
 ],
 "metadata": {
  "kernelspec": {
   "display_name": "Python 3",
   "language": "python",
   "name": "python3"
  },
  "language_info": {
   "codemirror_mode": {
    "name": "ipython",
    "version": 3
   },
   "file_extension": ".py",
   "mimetype": "text/x-python",
   "name": "python",
   "nbconvert_exporter": "python",
   "pygments_lexer": "ipython3",
   "version": "3.6.3"
  }
 },
 "nbformat": 4,
 "nbformat_minor": 2
}
